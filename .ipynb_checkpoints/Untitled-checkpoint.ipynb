{
 "cells": [
  {
   "cell_type": "code",
   "execution_count": 1,
   "id": "a3e392a6-674f-4968-93e6-fc1d6e6058b0",
   "metadata": {},
   "outputs": [
    {
     "name": "stdin",
     "output_type": "stream",
     "text": [
      "What's your name?  PAcharapon Phumpin\n"
     ]
    },
    {
     "name": "stdout",
     "output_type": "stream",
     "text": [
      "Nice to meet you PAcharapon Phumpin!\n"
     ]
    },
    {
     "name": "stdin",
     "output_type": "stream",
     "text": [
      "Your age?  18\n"
     ]
    },
    {
     "name": "stdout",
     "output_type": "stream",
     "text": [
      "So, you are already 18 years old, PAcharapon Phumpin!\n"
     ]
    }
   ],
   "source": [
    "name = input(\"What's your name? \")  \n",
    "\n",
    "print(\"Nice to meet you \" + name + \"!\")  \n",
    "\n",
    "age = input(\"Your age? \")  \n",
    "\n",
    "print(\"So, you are already \" + age +\" years old, \" + name + \"!\")"
   ]
  },
  {
   "cell_type": "code",
   "execution_count": 2,
   "id": "1922fd46-274b-4c32-b38b-0a4b62c91b1f",
   "metadata": {},
   "outputs": [
    {
     "name": "stdin",
     "output_type": "stream",
     "text": [
      "name พชรพล พุ่มพิน\n"
     ]
    }
   ],
   "source": [
    "name = input(\"name\")"
   ]
  },
  {
   "cell_type": "code",
   "execution_count": 4,
   "id": "5122ef55-14a6-4cff-b624-75fd08791e97",
   "metadata": {},
   "outputs": [
    {
     "name": "stdin",
     "output_type": "stream",
     "text": [
      "กรุณาป้อนตัวเลขหนึ่งตัว :  9\n"
     ]
    },
    {
     "name": "stdout",
     "output_type": "stream",
     "text": [
      "9\n"
     ]
    }
   ],
   "source": [
    "number = input(\"กรุณาป้อนตัวเลขหนึ่งตัว : \")\n",
    "print(number)"
   ]
  },
  {
   "cell_type": "code",
   "execution_count": 5,
   "id": "30cdde89-bc46-4f55-a719-499f24d0aede",
   "metadata": {},
   "outputs": [
    {
     "name": "stdin",
     "output_type": "stream",
     "text": [
      "กรุณาป้อนตัวเลข 90\n"
     ]
    },
    {
     "name": "stdout",
     "output_type": "stream",
     "text": [
      "ผลลัพธ์คือ:  9000\n"
     ]
    }
   ],
   "source": [
    "number = input(\"กรุณาป้อนตัวเลข\")\n",
    "result = int(number)*100\n",
    "print(\"ผลลัพธ์คือ: \", result)"
   ]
  },
  {
   "cell_type": "code",
   "execution_count": 6,
   "id": "cf983daf-54ff-47fb-b62c-0a4478d8eafd",
   "metadata": {},
   "outputs": [
    {
     "name": "stdin",
     "output_type": "stream",
     "text": [
      "Enter number :  90\n"
     ]
    },
    {
     "name": "stdout",
     "output_type": "stream",
     "text": [
      "9000\n"
     ]
    }
   ],
   "source": [
    "print(int(input(\"Enter number : \"))*100)"
   ]
  },
  {
   "cell_type": "code",
   "execution_count": 13,
   "id": "6efc0c54-5bc7-4345-8d36-5fad8fbd047c",
   "metadata": {},
   "outputs": [
    {
     "name": "stdout",
     "output_type": "stream",
     "text": [
      "ชื่อ  พชรพล นามสกุล พุ่มพิน\n",
      "ชื่อ พชรพล นามสกุล พุ่มพิน\n"
     ]
    }
   ],
   "source": [
    "name = \"พชรพล\"\n",
    "lastname = \"พุ่มพิน\"\n",
    "\n",
    "print(\"ชื่อ  \" +name+ \" นามสกุล \" +lastname)\n",
    "print(\"ชื่อ {} นามสกุล {}\".format(name, lastname))"
   ]
  },
  {
   "cell_type": "code",
   "execution_count": 15,
   "id": "edb53dad-6327-48c8-b6b3-144b936ed312",
   "metadata": {},
   "outputs": [
    {
     "data": {
      "text/plain": [
       "'A10'"
      ]
     },
     "execution_count": 15,
     "metadata": {},
     "output_type": "execute_result"
    }
   ],
   "source": [
    "\"A\"+ \"10\""
   ]
  },
  {
   "cell_type": "code",
   "execution_count": 17,
   "id": "711dd695-a315-43a2-a22b-65bc06954dfd",
   "metadata": {},
   "outputs": [
    {
     "data": {
      "text/plain": [
       "'102'"
      ]
     },
     "execution_count": 17,
     "metadata": {},
     "output_type": "execute_result"
    }
   ],
   "source": [
    "\"10\" + \"2\""
   ]
  },
  {
   "cell_type": "code",
   "execution_count": 19,
   "id": "b571a546-7a08-40ff-8c41-b3c79968ae54",
   "metadata": {},
   "outputs": [
    {
     "data": {
      "text/plain": [
       "'cat bat'"
      ]
     },
     "execution_count": 19,
     "metadata": {},
     "output_type": "execute_result"
    }
   ],
   "source": [
    "\"cat \" + \"bat\""
   ]
  },
  {
   "cell_type": "code",
   "execution_count": 20,
   "id": "8417d5d2-c084-48f8-8cf1-5e6c9966ba1d",
   "metadata": {},
   "outputs": [
    {
     "name": "stdout",
     "output_type": "stream",
     "text": [
      "Sammy has 5 dogs and 10 cats\n"
     ]
    }
   ],
   "source": [
    "cat = 10\n",
    "dog = 5\n",
    "\n",
    "msg = \"Sammy has {} dogs and {} cats\".format(dog, cat)\n",
    "print(msg)"
   ]
  },
  {
   "cell_type": "code",
   "execution_count": 21,
   "id": "2fb8c851-d3c4-4ade-be50-de4dfa873489",
   "metadata": {},
   "outputs": [
    {
     "name": "stdout",
     "output_type": "stream",
     "text": [
      "Sammy loves open source.\n"
     ]
    }
   ],
   "source": [
    "open_string = \"Sammy loves {}.\"  \n",
    "print(open_string.format(\"open source\"))"
   ]
  },
  {
   "cell_type": "code",
   "execution_count": 22,
   "id": "2b69bd17-10c6-4787-8a69-b96c2bd62c7b",
   "metadata": {},
   "outputs": [
    {
     "name": "stdout",
     "output_type": "stream",
     "text": [
      "Sammy has        5 red balloons        !\n"
     ]
    }
   ],
   "source": [
    "print(\"Sammy has {0:8} red {1:16}!\".format(5, \"balloons\"))"
   ]
  },
  {
   "cell_type": "code",
   "execution_count": 23,
   "id": "c773154e-f4c8-48fb-9bf4-67830e2b9b44",
   "metadata": {},
   "outputs": [
    {
     "name": "stdout",
     "output_type": "stream",
     "text": [
      "Sammy has   5.00   red         balloons!\n"
     ]
    }
   ],
   "source": [
    "print(\"Sammy has {0:^8.2f} red {1:>16}!\".format(5, \"balloons\"))"
   ]
  },
  {
   "cell_type": "code",
   "execution_count": null,
   "id": "326163c8-9d70-4b67-8b65-95d371d94bce",
   "metadata": {},
   "outputs": [],
   "source": []
  }
 ],
 "metadata": {
  "kernelspec": {
   "display_name": "Python 3 (ipykernel)",
   "language": "python",
   "name": "python3"
  },
  "language_info": {
   "codemirror_mode": {
    "name": "ipython",
    "version": 3
   },
   "file_extension": ".py",
   "mimetype": "text/x-python",
   "name": "python",
   "nbconvert_exporter": "python",
   "pygments_lexer": "ipython3",
   "version": "3.13.0"
  }
 },
 "nbformat": 4,
 "nbformat_minor": 5
}
