{
 "cells": [
  {
   "cell_type": "markdown",
   "id": "39fdd370-c448-4da6-b3ed-0362eb413379",
   "metadata": {},
   "source": [
    "พชรพล พุ่มพิน 6712732112"
   ]
  },
  {
   "cell_type": "code",
   "execution_count": 6,
   "id": "ec785952-d2c6-4571-a52a-8b5c04ac4d81",
   "metadata": {},
   "outputs": [
    {
     "name": "stdin",
     "output_type": "stream",
     "text": [
      " 5 23\n"
     ]
    },
    {
     "name": "stdout",
     "output_type": "stream",
     "text": [
      "5\n"
     ]
    }
   ],
   "source": [
    "import math\n",
    "X, Y = map(int, input().split())\n",
    "min_jumps = math.ceil(Y / X)\n",
    "print(min_jumps)"
   ]
  },
  {
   "cell_type": "code",
   "execution_count": null,
   "id": "03e90c99-8955-4aa7-9362-e12a6d7cb56b",
   "metadata": {},
   "outputs": [],
   "source": []
  }
 ],
 "metadata": {
  "kernelspec": {
   "display_name": "Python 3 (ipykernel)",
   "language": "python",
   "name": "python3"
  },
  "language_info": {
   "codemirror_mode": {
    "name": "ipython",
    "version": 3
   },
   "file_extension": ".py",
   "mimetype": "text/x-python",
   "name": "python",
   "nbconvert_exporter": "python",
   "pygments_lexer": "ipython3",
   "version": "3.13.0"
  }
 },
 "nbformat": 4,
 "nbformat_minor": 5
}
