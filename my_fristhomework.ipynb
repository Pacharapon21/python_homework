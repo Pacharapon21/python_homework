{
 "cells": [
  {
   "cell_type": "markdown",
   "id": "a9dcaa39-f6aa-4179-ac88-d54f099db5a8",
   "metadata": {},
   "source": [
    "พชรพล พุมพิน\n",
    "\n",
    "6712732112"
   ]
  },
  {
   "cell_type": "code",
   "execution_count": 2,
   "id": "b339e342-f899-4288-8ffa-9550acf5c439",
   "metadata": {},
   "outputs": [
    {
     "name": "stdout",
     "output_type": "stream",
     "text": [
      "Hello, world\n"
     ]
    }
   ],
   "source": [
    "print(\"Hello, world\")"
   ]
  }
 ],
 "metadata": {
  "kernelspec": {
   "display_name": "Python 3 (ipykernel)",
   "language": "python",
   "name": "python3"
  },
  "language_info": {
   "codemirror_mode": {
    "name": "ipython",
    "version": 3
   },
   "file_extension": ".py",
   "mimetype": "text/x-python",
   "name": "python",
   "nbconvert_exporter": "python",
   "pygments_lexer": "ipython3",
   "version": "3.13.0"
  }
 },
 "nbformat": 4,
 "nbformat_minor": 5
}
